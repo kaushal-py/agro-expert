{
 "cells": [
  {
   "cell_type": "code",
   "execution_count": 96,
   "metadata": {},
   "outputs": [],
   "source": [
    "%matplotlib inline\n",
    "from matplotlib import pyplot as plt\n",
    "import pandas as pd\n",
    "import numpy as np\n",
    "from glob import glob\n",
    "import numpy as np\n",
    "from sklearn import datasets, linear_model"
   ]
  },
  {
   "cell_type": "code",
   "execution_count": 97,
   "metadata": {
    "scrolled": true
   },
   "outputs": [
    {
     "data": {
      "text/html": [
       "<div>\n",
       "<style scoped>\n",
       "    .dataframe tbody tr th:only-of-type {\n",
       "        vertical-align: middle;\n",
       "    }\n",
       "\n",
       "    .dataframe tbody tr th {\n",
       "        vertical-align: top;\n",
       "    }\n",
       "\n",
       "    .dataframe thead th {\n",
       "        text-align: right;\n",
       "    }\n",
       "</style>\n",
       "<table border=\"1\" class=\"dataframe\">\n",
       "  <thead>\n",
       "    <tr style=\"text-align: right;\">\n",
       "      <th></th>\n",
       "      <th>Items                          States</th>\n",
       "      <th>Andhra Pradesh</th>\n",
       "      <th>Karnataka</th>\n",
       "      <th>Maharashtra</th>\n",
       "      <th>Tamil Nadu</th>\n",
       "      <th>Uttar Pradesh</th>\n",
       "      <th>Uttarakhand</th>\n",
       "    </tr>\n",
       "  </thead>\n",
       "  <tbody>\n",
       "    <tr>\n",
       "      <th>6</th>\n",
       "      <td>Cost of Cultivation (Rs./Hectare)</td>\n",
       "      <td>163567.80</td>\n",
       "      <td>119526.52</td>\n",
       "      <td>194375.62</td>\n",
       "      <td>163112.19</td>\n",
       "      <td>98258.12</td>\n",
       "      <td>92069.24</td>\n",
       "    </tr>\n",
       "    <tr>\n",
       "      <th>10</th>\n",
       "      <td></td>\n",
       "      <td>199.24</td>\n",
       "      <td>130.11</td>\n",
       "      <td>160.97</td>\n",
       "      <td>149.24</td>\n",
       "      <td>143.64</td>\n",
       "      <td>134.77</td>\n",
       "    </tr>\n",
       "    <tr>\n",
       "      <th>14</th>\n",
       "      <td>Cost of Production (Rs./Qtl)</td>\n",
       "      <td>240.30</td>\n",
       "      <td>159.54</td>\n",
       "      <td>202.06</td>\n",
       "      <td>190.75</td>\n",
       "      <td>191.24</td>\n",
       "      <td>163.67</td>\n",
       "    </tr>\n",
       "    <tr>\n",
       "      <th>15</th>\n",
       "      <td>Value of Main Product (Rs./Hectare)</td>\n",
       "      <td>178032.90</td>\n",
       "      <td>158767.40</td>\n",
       "      <td>187343.80</td>\n",
       "      <td>225461.80</td>\n",
       "      <td>156313.80</td>\n",
       "      <td>159739.80</td>\n",
       "    </tr>\n",
       "    <tr>\n",
       "      <th>16</th>\n",
       "      <td>Value of By- Product (Rs./Hectare)</td>\n",
       "      <td>4224.01</td>\n",
       "      <td>2997.71</td>\n",
       "      <td>12275.34</td>\n",
       "      <td>3480.06</td>\n",
       "      <td>6897.05</td>\n",
       "      <td>11347.79</td>\n",
       "    </tr>\n",
       "    <tr>\n",
       "      <th>17</th>\n",
       "      <td>Material &amp; Labour Input per Hectare of</td>\n",
       "      <td>NaN</td>\n",
       "      <td>NaN</td>\n",
       "      <td>NaN</td>\n",
       "      <td>NaN</td>\n",
       "      <td>NaN</td>\n",
       "      <td>NaN</td>\n",
       "    </tr>\n",
       "    <tr>\n",
       "      <th>18</th>\n",
       "      <td>Seed (Qtl.)</td>\n",
       "      <td>65.90</td>\n",
       "      <td>38.67</td>\n",
       "      <td>32.60</td>\n",
       "      <td>23.90</td>\n",
       "      <td>16.07</td>\n",
       "      <td>23.06</td>\n",
       "    </tr>\n",
       "    <tr>\n",
       "      <th>19</th>\n",
       "      <td>Fertilizer (Kg. Nutrients)</td>\n",
       "      <td>549.98</td>\n",
       "      <td>391.25</td>\n",
       "      <td>640.70</td>\n",
       "      <td>417.47</td>\n",
       "      <td>198.43</td>\n",
       "      <td>126.98</td>\n",
       "    </tr>\n",
       "    <tr>\n",
       "      <th>20</th>\n",
       "      <td>Manure (Qtl.)</td>\n",
       "      <td>13.95</td>\n",
       "      <td>14.20</td>\n",
       "      <td>36.21</td>\n",
       "      <td>43.22</td>\n",
       "      <td>4.37</td>\n",
       "      <td>30.68</td>\n",
       "    </tr>\n",
       "    <tr>\n",
       "      <th>21</th>\n",
       "      <td>Human Labour* (Man Hrs.)</td>\n",
       "      <td>1616.18</td>\n",
       "      <td>1191.68</td>\n",
       "      <td>1800.07</td>\n",
       "      <td>1731.38</td>\n",
       "      <td>1184.29</td>\n",
       "      <td>968.30</td>\n",
       "    </tr>\n",
       "    <tr>\n",
       "      <th>22</th>\n",
       "      <td>Animal Labour (Pair Hrs.)</td>\n",
       "      <td>20.89</td>\n",
       "      <td>40.01</td>\n",
       "      <td>66.10</td>\n",
       "      <td>9.73</td>\n",
       "      <td>4.49</td>\n",
       "      <td>1.14</td>\n",
       "    </tr>\n",
       "    <tr>\n",
       "      <th>23</th>\n",
       "      <td>Rate per Unit (Rs.)</td>\n",
       "      <td>NaN</td>\n",
       "      <td>NaN</td>\n",
       "      <td>NaN</td>\n",
       "      <td>NaN</td>\n",
       "      <td>NaN</td>\n",
       "      <td>NaN</td>\n",
       "    </tr>\n",
       "    <tr>\n",
       "      <th>24</th>\n",
       "      <td>Seed (Qtl.)</td>\n",
       "      <td>213.72</td>\n",
       "      <td>285.84</td>\n",
       "      <td>277.14</td>\n",
       "      <td>242.61</td>\n",
       "      <td>294.63</td>\n",
       "      <td>302.37</td>\n",
       "    </tr>\n",
       "    <tr>\n",
       "      <th>25</th>\n",
       "      <td>Fertilizer (Kg. Nutrients)</td>\n",
       "      <td>25.78</td>\n",
       "      <td>28.92</td>\n",
       "      <td>29.56</td>\n",
       "      <td>28.97</td>\n",
       "      <td>19.13</td>\n",
       "      <td>18.76</td>\n",
       "    </tr>\n",
       "    <tr>\n",
       "      <th>26</th>\n",
       "      <td>Manure (Qtl.)</td>\n",
       "      <td>56.03</td>\n",
       "      <td>39.02</td>\n",
       "      <td>172.61</td>\n",
       "      <td>58.59</td>\n",
       "      <td>57.12</td>\n",
       "      <td>38.46</td>\n",
       "    </tr>\n",
       "    <tr>\n",
       "      <th>27</th>\n",
       "      <td>Human Labour (Man Hrs.)</td>\n",
       "      <td>38.38</td>\n",
       "      <td>31.14</td>\n",
       "      <td>31.82</td>\n",
       "      <td>49.21</td>\n",
       "      <td>27.05</td>\n",
       "      <td>27.42</td>\n",
       "    </tr>\n",
       "    <tr>\n",
       "      <th>28</th>\n",
       "      <td>Animal Labour (Pair Hrs.)</td>\n",
       "      <td>76.52</td>\n",
       "      <td>65.59</td>\n",
       "      <td>119.81</td>\n",
       "      <td>53.25</td>\n",
       "      <td>101.01</td>\n",
       "      <td>114.80</td>\n",
       "    </tr>\n",
       "    <tr>\n",
       "      <th>29</th>\n",
       "      <td>Implicit Rate (Rs./Qtl.)</td>\n",
       "      <td>243.50</td>\n",
       "      <td>200.53</td>\n",
       "      <td>182.97</td>\n",
       "      <td>248.35</td>\n",
       "      <td>268.97</td>\n",
       "      <td>271.51</td>\n",
       "    </tr>\n",
       "    <tr>\n",
       "      <th>30</th>\n",
       "      <td>Number of Holdings in Sample</td>\n",
       "      <td>34.00</td>\n",
       "      <td>52.00</td>\n",
       "      <td>207.00</td>\n",
       "      <td>123.00</td>\n",
       "      <td>193.00</td>\n",
       "      <td>17.00</td>\n",
       "    </tr>\n",
       "    <tr>\n",
       "      <th>31</th>\n",
       "      <td>Number of Tehsils in Sample</td>\n",
       "      <td>8.00</td>\n",
       "      <td>25.00</td>\n",
       "      <td>36.00</td>\n",
       "      <td>31.00</td>\n",
       "      <td>34.00</td>\n",
       "      <td>3.00</td>\n",
       "    </tr>\n",
       "    <tr>\n",
       "      <th>32</th>\n",
       "      <td>Derived Yield (Qtl./Hectare)</td>\n",
       "      <td>730.90</td>\n",
       "      <td>808.81</td>\n",
       "      <td>993.77</td>\n",
       "      <td>926.39</td>\n",
       "      <td>539.07</td>\n",
       "      <td>578.17</td>\n",
       "    </tr>\n",
       "  </tbody>\n",
       "</table>\n",
       "</div>"
      ],
      "text/plain": [
       "     Items                          States  Andhra Pradesh  Karnataka  \\\n",
       "6        Cost of Cultivation (Rs./Hectare)       163567.80  119526.52   \n",
       "10                                                  199.24     130.11   \n",
       "14            Cost of Production (Rs./Qtl)          240.30     159.54   \n",
       "15     Value of Main Product (Rs./Hectare)       178032.90  158767.40   \n",
       "16      Value of By- Product (Rs./Hectare)         4224.01    2997.71   \n",
       "17  Material & Labour Input per Hectare of             NaN        NaN   \n",
       "18                             Seed (Qtl.)           65.90      38.67   \n",
       "19              Fertilizer (Kg. Nutrients)          549.98     391.25   \n",
       "20                           Manure (Qtl.)           13.95      14.20   \n",
       "21                Human Labour* (Man Hrs.)         1616.18    1191.68   \n",
       "22               Animal Labour (Pair Hrs.)           20.89      40.01   \n",
       "23                     Rate per Unit (Rs.)             NaN        NaN   \n",
       "24                             Seed (Qtl.)          213.72     285.84   \n",
       "25              Fertilizer (Kg. Nutrients)           25.78      28.92   \n",
       "26                           Manure (Qtl.)           56.03      39.02   \n",
       "27                 Human Labour (Man Hrs.)           38.38      31.14   \n",
       "28               Animal Labour (Pair Hrs.)           76.52      65.59   \n",
       "29                Implicit Rate (Rs./Qtl.)          243.50     200.53   \n",
       "30            Number of Holdings in Sample           34.00      52.00   \n",
       "31             Number of Tehsils in Sample            8.00      25.00   \n",
       "32            Derived Yield (Qtl./Hectare)          730.90     808.81   \n",
       "\n",
       "    Maharashtra  Tamil Nadu  Uttar Pradesh  Uttarakhand  \n",
       "6     194375.62   163112.19       98258.12     92069.24  \n",
       "10       160.97      149.24         143.64       134.77  \n",
       "14       202.06      190.75         191.24       163.67  \n",
       "15    187343.80   225461.80      156313.80    159739.80  \n",
       "16     12275.34     3480.06        6897.05     11347.79  \n",
       "17          NaN         NaN            NaN          NaN  \n",
       "18        32.60       23.90          16.07        23.06  \n",
       "19       640.70      417.47         198.43       126.98  \n",
       "20        36.21       43.22           4.37        30.68  \n",
       "21      1800.07     1731.38        1184.29       968.30  \n",
       "22        66.10        9.73           4.49         1.14  \n",
       "23          NaN         NaN            NaN          NaN  \n",
       "24       277.14      242.61         294.63       302.37  \n",
       "25        29.56       28.97          19.13        18.76  \n",
       "26       172.61       58.59          57.12        38.46  \n",
       "27        31.82       49.21          27.05        27.42  \n",
       "28       119.81       53.25         101.01       114.80  \n",
       "29       182.97      248.35         268.97       271.51  \n",
       "30       207.00      123.00         193.00        17.00  \n",
       "31        36.00       31.00          34.00         3.00  \n",
       "32       993.77      926.39         539.07       578.17  "
      ]
     },
     "execution_count": 97,
     "metadata": {},
     "output_type": "execute_result"
    }
   ],
   "source": [
    "xls_data = sorted(glob('Dataset/*.xls'))\n",
    "\n",
    "apple = None\n",
    "\n",
    "for xls in xls_data:\n",
    "    xl = pd.ExcelFile(xls)\n",
    "    for sheet in xl.sheet_names:\n",
    "        if sheet.startswith(\"Coco\"):\n",
    "            continue\n",
    "        df = xl.parse(sheet, skiprows=3)\n",
    "        df.iloc[6,1] = df.iloc[0,1]\n",
    "        df.iloc[0,1] = np.nan\n",
    "        df.iloc[14,1] = df.iloc[7,1]\n",
    "        df.iloc[7,1] = np.nan\n",
    "        df = df[df.iloc[:,1].notnull()]\n",
    "        df.drop(df.columns[[0,2]],axis=1,inplace=True)\n",
    "        apple = df.iloc[:21,:]\n",
    "#         print(apple.shape)\n",
    "\n",
    "apple\n",
    "    "
   ]
  },
  {
   "cell_type": "code",
   "execution_count": 98,
   "metadata": {},
   "outputs": [
    {
     "name": "stdout",
     "output_type": "stream",
     "text": [
      "['Soyabean', 'Sesamum', 'Nigerseed', 'Moong', 'Coconut TN', 'Paddy', 'Potato', 'Ragi', 'Groundnut', 'VFCTobacco', 'Safflower', 'Onion', 'Coconut', 'Lentil', 'Urad', 'Jute', 'Sunflower', 'Coconut Ke', 'Jowar', 'Cotton', 'Maize', 'Peas', 'Bajra', 'Arhar', 'Gram', 'Wheat', 'R&M', 'Barley', 'Sugarcane']\n",
      "[[[ 79.07  77.39  79.02 ...  76.77  74.3   81.78]\n",
      "  [ 65.77  52.12  72.1  ...  78.27  77.76  78.24]\n",
      "  [  3.71   7.01   6.66 ...   9.8    8.54  13.05]\n",
      "  ...\n",
      "  [ 50.72  54.05  60.72 ... 136.   191.28 151.45]\n",
      "  [  5.92   6.57   7.01 ...  22.04  24.37  26.37]\n",
      "  [ 53.02  41.72  50.14 ...  70.62  78.98  84.07]]\n",
      "\n",
      " [[  0.     0.     0.   ...   0.     0.     0.  ]\n",
      "  [  0.     0.     0.   ...   0.     0.     0.  ]\n",
      "  [  0.     0.     0.   ...   0.     0.     0.  ]\n",
      "  ...\n",
      "  [  0.     0.     0.   ...   0.     0.     0.  ]\n",
      "  [  0.     0.     0.   ...   0.     0.     0.  ]\n",
      "  [  0.     0.     0.   ...   0.     0.     0.  ]]\n",
      "\n",
      " [[  0.     0.     0.   ...   0.     0.     0.  ]\n",
      "  [  0.     0.     0.   ...   0.     0.     0.  ]\n",
      "  [  0.     0.     0.   ...   0.     0.     0.  ]\n",
      "  ...\n",
      "  [  0.     0.     0.   ...   0.     0.     0.  ]\n",
      "  [  0.     0.     0.   ...   0.     0.     0.  ]\n",
      "  [  0.     0.     0.   ...   0.     0.     0.  ]]\n",
      "\n",
      " ...\n",
      "\n",
      " [[  0.     0.     0.   ...   0.     0.     0.  ]\n",
      "  [  0.     0.     0.   ...   0.     0.     0.  ]\n",
      "  [  0.     0.     0.   ...   0.     0.     0.  ]\n",
      "  ...\n",
      "  [  0.     0.     0.   ...   0.     0.     0.  ]\n",
      "  [  0.     0.     0.   ...   0.     0.     0.  ]\n",
      "  [  0.     0.     0.   ...   0.     0.     0.  ]]\n",
      "\n",
      " [[  0.     0.     0.   ...   0.     0.     0.  ]\n",
      "  [  0.     0.     0.   ...   0.     0.     0.  ]\n",
      "  [  0.     0.     0.   ...   0.     0.     0.  ]\n",
      "  ...\n",
      "  [  0.     0.     0.   ...   0.     0.     0.  ]\n",
      "  [  0.     0.     0.   ...   0.     0.     0.  ]\n",
      "  [  0.     0.     0.   ...   0.     0.     0.  ]]\n",
      "\n",
      " [[ 37.93  62.05  31.43 ...    nan    nan    nan]\n",
      "  [568.49 643.16 555.16 ...  26.4   19.5   32.6 ]\n",
      "  [  9.28  52.77  16.64 ... 682.2  643.98 640.7 ]\n",
      "  ...\n",
      "  [ 46.19  59.03  60.06 ...  25.47  31.31  29.56]\n",
      "  [  8.49   8.18   9.51 ... 111.16 163.84 172.61]\n",
      "  [ 30.22  36.87  47.85 ...  25.01  26.76  31.82]]]\n"
     ]
    },
    {
     "data": {
      "text/plain": [
       "([],\n",
       " [[2004],\n",
       "  [2005],\n",
       "  [2006],\n",
       "  [2007],\n",
       "  [2008],\n",
       "  [2009],\n",
       "  [2010],\n",
       "  [2011],\n",
       "  [2012],\n",
       "  [2013],\n",
       "  [2014]])"
      ]
     },
     "execution_count": 98,
     "metadata": {},
     "output_type": "execute_result"
    }
   ],
   "source": [
    "xls_data = sorted(glob('Dataset/*.xls'))\n",
    "\n",
    "state = \"Maharashtra\"\n",
    "apple = []\n",
    "year = []\n",
    "sheetnames = []\n",
    "\n",
    "required_elements = [5,6,7,8,9,11,12,13,14,15,21]\n",
    "\n",
    "for xls in xls_data:\n",
    "    xl = pd.ExcelFile(xls)\n",
    "    sheetnames = sheetnames + xl.sheet_names\n",
    "y = set(sheetnames)\n",
    "y = list(y)\n",
    "print(y)\n",
    "\n",
    "items = np.zeros((len(y),10,11))\n",
    "\n",
    "for xls in xls_data:\n",
    "    xl = pd.ExcelFile(xls)\n",
    "    for sheet in xl.sheet_names:\n",
    "        if sheet.startswith(\"Coco\"):\n",
    "            continue\n",
    "        df = xl.parse(sheet, skiprows=3)\n",
    "        df.iloc[6,1] = df.iloc[0,1]\n",
    "        df.iloc[0,1] = np.nan\n",
    "        df.iloc[14,1] = df.iloc[7,1]\n",
    "        df.iloc[7,1] = np.nan\n",
    "        df = df[df.iloc[:,1].notnull()]\n",
    "        df.drop(df.columns[[0,2]],axis=1,inplace=True)\n",
    "        df = df.iloc[:21,:]\n",
    "#         df[state].shape\n",
    "        try:\n",
    "            for i,element in enumerate(required_elements):\n",
    "                items[y.index(sheet),i,int(xls[8:12])-2004] = df[state].iloc[element]\n",
    "        except:\n",
    "            pass\n",
    "    year.append([int(xls[8:12])])\n",
    "\n",
    "print(items)\n",
    "apple,year"
   ]
  },
  {
   "cell_type": "code",
   "execution_count": 99,
   "metadata": {
    "scrolled": false
   },
   "outputs": [],
   "source": [
    "for i in range(0,len(items)):\n",
    "    for j in range(0,len(items[0])):\n",
    "        for k in range(0,len(items[0][0])):\n",
    "            if np.isnan(items[i,j,k]):\n",
    "                items[i,j,k] = 0\n",
    "for i in range(0,len(items)):\n",
    "    for j in range(0,len(items[0])):\n",
    "        for k in range(0,len(items[0][0])):\n",
    "            if np.isnan(items[i,j,k]):\n",
    "                items[i,j,k] = np.mean(items[i][j])\n",
    "models = [[0 for y in range(0,len(items[0]))] for x in range(0,len(items))] \n",
    "for i in range(0,len(items)):\n",
    "    for j in range(0,len(items[0])):\n",
    "        models[i][j] = linear_model.LinearRegression()\n",
    "        models[i][j].fit(year, items[i,j])"
   ]
  },
  {
   "cell_type": "code",
   "execution_count": 116,
   "metadata": {},
   "outputs": [
    {
     "name": "stdout",
     "output_type": "stream",
     "text": [
      "316607.37219008344 Sugarcane\n"
     ]
    }
   ],
   "source": [
    "area = 2\n",
    "all_crops=[]\n",
    "ans = np.zeros((len(y),10))\n",
    "cost = np.zeros((len(y)))\n",
    "gain = np.zeros((len(y)))\n",
    "supp = 1500\n",
    "for i in range(0,len(items)):\n",
    "    for j in range(0,len(items[0])):\n",
    "        ans[i][j] = models[i][j].predict(2017)\n",
    "max_num=0\n",
    "max_index=0\n",
    "for i in range(0,len(items)):\n",
    "    for j in range(0,int(len(ans[0])/2)):\n",
    "        cost[i]+=ans[i][j]*ans[i][j+5]\n",
    "#     print((ans[i][len(items[0])-1]*supp-cost[i])*2)\n",
    "    all_crops.append((ans[i][len(items[0])-1]*supp-cost[i])*2)\n",
    "    if ((ans[i][len(items[0])-1]*supp-cost[i])*2) > max_num:\n",
    "        max_num = ((ans[i][len(items[0])-1]*supp-cost[i])*2)\n",
    "        max_index = i\n",
    "print(max(all_crops),y[i])"
   ]
  },
  {
   "cell_type": "code",
   "execution_count": null,
   "metadata": {},
   "outputs": [],
   "source": []
  },
  {
   "cell_type": "code",
   "execution_count": 81,
   "metadata": {},
   "outputs": [],
   "source": [
    "import fbprophet\n",
    "m = fbprophet.Prophet(growth='logistic')"
   ]
  },
  {
   "cell_type": "code",
   "execution_count": 82,
   "metadata": {},
   "outputs": [],
   "source": [
    "# year = [2004, 2015, 2017]\n",
    "ts = pd.DataFrame(list(zip(*[year,apple])))"
   ]
  },
  {
   "cell_type": "code",
   "execution_count": null,
   "metadata": {
    "scrolled": true
   },
   "outputs": [],
   "source": []
  },
  {
   "cell_type": "code",
   "execution_count": 84,
   "metadata": {},
   "outputs": [
    {
     "data": {
      "text/plain": [
       "LinearRegression(copy_X=True, fit_intercept=True, n_jobs=1, normalize=False)"
      ]
     },
     "execution_count": 84,
     "metadata": {},
     "output_type": "execute_result"
    }
   ],
   "source": [
    "from sklearn import linear_model\n",
    "\n",
    "regr = linear_model.LinearRegression()\n",
    "regr.fit(year, apple)"
   ]
  },
  {
   "cell_type": "code",
   "execution_count": 92,
   "metadata": {},
   "outputs": [],
   "source": [
    "y_pred = regr.predict([[2015],[2017]])"
   ]
  },
  {
   "cell_type": "code",
   "execution_count": 93,
   "metadata": {},
   "outputs": [
    {
     "name": "stdout",
     "output_type": "stream",
     "text": [
      "[79.37254545 88.12672727] [32.58, 30.07, 34.45, 36.91, 45.72, 67.27, 75.31, 67.44, 66.64, 61.66, 66.16]\n"
     ]
    }
   ],
   "source": [
    "print(y_pred, apple)"
   ]
  },
  {
   "cell_type": "code",
   "execution_count": 89,
   "metadata": {},
   "outputs": [
    {
     "data": {
      "text/plain": [
       "[<matplotlib.lines.Line2D at 0x7fd0ae764be0>]"
      ]
     },
     "execution_count": 89,
     "metadata": {},
     "output_type": "execute_result"
    },
    {
     "data": {
      "image/png": "[encoded data removed]",
      "text/plain": [
       "<Figure size 432x288 with 1 Axes>"
      ]
     },
     "metadata": {},
     "output_type": "display_data"
    }
   ],
   "source": [
    "plt.plot(y_pred)"
   ]
  },
  {
   "cell_type": "code",
   "execution_count": 90,
   "metadata": {},
   "outputs": [
    {
     "data": {
      "text/plain": [
       "[<matplotlib.lines.Line2D at 0x7fd0ae4fa9b0>]"
      ]
     },
     "execution_count": 90,
     "metadata": {},
     "output_type": "execute_result"
    },
    {
     "data": {
      "image/png": "[encoded data removed]",
      "text/plain": [
       "<Figure size 432x288 with 1 Axes>"
      ]
     },
     "metadata": {},
     "output_type": "display_data"
    }
   ],
   "source": [
    "plt.plot(apple)"
   ]
  },
  {
   "cell_type": "code",
   "execution_count": null,
   "metadata": {},
   "outputs": [],
   "source": []
  }
 ],
 "metadata": {
  "kernelspec": {
   "display_name": "Python 3",
   "language": "python",
   "name": "python3"
  },
  "language_info": {
   "codemirror_mode": {
    "name": "ipython",
    "version": 3
   },
   "file_extension": ".py",
   "mimetype": "text/x-python",
   "name": "python",
   "nbconvert_exporter": "python",
   "pygments_lexer": "ipython3",
   "version": "3.6.4"
  }
 },
 "nbformat": 4,
 "nbformat_minor": 2
}
